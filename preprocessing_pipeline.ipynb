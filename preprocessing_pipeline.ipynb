{
 "cells": [
  {
   "cell_type": "markdown",
   "id": "f4d11c4a",
   "metadata": {},
   "source": [
    "## Import Library"
   ]
  },
  {
   "cell_type": "code",
   "execution_count": 1,
   "id": "831d78cb",
   "metadata": {},
   "outputs": [],
   "source": [
    "import pandas as pd \n",
    "import numpy as np"
   ]
  },
  {
   "cell_type": "markdown",
   "id": "4c3d2e09",
   "metadata": {},
   "source": [
    "## Load dataset"
   ]
  },
  {
   "cell_type": "code",
   "execution_count": 2,
   "id": "92d9e508",
   "metadata": {},
   "outputs": [
    {
     "data": {
      "text/html": [
       "<div>\n",
       "<style scoped>\n",
       "    .dataframe tbody tr th:only-of-type {\n",
       "        vertical-align: middle;\n",
       "    }\n",
       "\n",
       "    .dataframe tbody tr th {\n",
       "        vertical-align: top;\n",
       "    }\n",
       "\n",
       "    .dataframe thead th {\n",
       "        text-align: right;\n",
       "    }\n",
       "</style>\n",
       "<table border=\"1\" class=\"dataframe\">\n",
       "  <thead>\n",
       "    <tr style=\"text-align: right;\">\n",
       "      <th></th>\n",
       "      <th>Date</th>\n",
       "      <th>Store Number</th>\n",
       "      <th>Store Name</th>\n",
       "      <th>City</th>\n",
       "      <th>Category Name</th>\n",
       "      <th>Vendor Number</th>\n",
       "      <th>Vendor Name</th>\n",
       "      <th>Bottles Sold</th>\n",
       "    </tr>\n",
       "  </thead>\n",
       "  <tbody>\n",
       "    <tr>\n",
       "      <th>0</th>\n",
       "      <td>01/03/2017</td>\n",
       "      <td>5230</td>\n",
       "      <td>POINT LIQUOR &amp; TOBACCO</td>\n",
       "      <td>NaN</td>\n",
       "      <td>CANADIAN WHISKIES</td>\n",
       "      <td>260.0</td>\n",
       "      <td>DIAGEO AMERICAS</td>\n",
       "      <td>3</td>\n",
       "    </tr>\n",
       "    <tr>\n",
       "      <th>1</th>\n",
       "      <td>01/03/2017</td>\n",
       "      <td>4482</td>\n",
       "      <td>INDY 66 WEST #929 / INDIANOLA</td>\n",
       "      <td>NaN</td>\n",
       "      <td>AMERICAN VODKAS</td>\n",
       "      <td>434.0</td>\n",
       "      <td>LUXCO INC</td>\n",
       "      <td>6</td>\n",
       "    </tr>\n",
       "    <tr>\n",
       "      <th>2</th>\n",
       "      <td>01/03/2017</td>\n",
       "      <td>5359</td>\n",
       "      <td>FAREWAY STORES # 168/ PEOSTA</td>\n",
       "      <td>PEOSTA</td>\n",
       "      <td>AMERICAN VODKAS</td>\n",
       "      <td>434.0</td>\n",
       "      <td>LUXCO INC</td>\n",
       "      <td>12</td>\n",
       "    </tr>\n",
       "    <tr>\n",
       "      <th>3</th>\n",
       "      <td>01/03/2017</td>\n",
       "      <td>5242</td>\n",
       "      <td>KUM &amp; GO #502 / IOWA CITY</td>\n",
       "      <td>NaN</td>\n",
       "      <td>AMERICAN VODKAS</td>\n",
       "      <td>260.0</td>\n",
       "      <td>DIAGEO AMERICAS</td>\n",
       "      <td>1</td>\n",
       "    </tr>\n",
       "    <tr>\n",
       "      <th>4</th>\n",
       "      <td>01/03/2017</td>\n",
       "      <td>4482</td>\n",
       "      <td>INDY 66 WEST #929 / INDIANOLA</td>\n",
       "      <td>NaN</td>\n",
       "      <td>COCKTAILS/RTD</td>\n",
       "      <td>395.0</td>\n",
       "      <td>PROXIMO</td>\n",
       "      <td>6</td>\n",
       "    </tr>\n",
       "  </tbody>\n",
       "</table>\n",
       "</div>"
      ],
      "text/plain": [
       "         Date  Store Number                     Store Name    City  \\\n",
       "0  01/03/2017          5230         POINT LIQUOR & TOBACCO     NaN   \n",
       "1  01/03/2017          4482  INDY 66 WEST #929 / INDIANOLA     NaN   \n",
       "2  01/03/2017          5359   FAREWAY STORES # 168/ PEOSTA  PEOSTA   \n",
       "3  01/03/2017          5242      KUM & GO #502 / IOWA CITY     NaN   \n",
       "4  01/03/2017          4482  INDY 66 WEST #929 / INDIANOLA     NaN   \n",
       "\n",
       "       Category Name  Vendor Number      Vendor Name  Bottles Sold  \n",
       "0  CANADIAN WHISKIES          260.0  DIAGEO AMERICAS             3  \n",
       "1    AMERICAN VODKAS          434.0        LUXCO INC             6  \n",
       "2    AMERICAN VODKAS          434.0        LUXCO INC            12  \n",
       "3    AMERICAN VODKAS          260.0  DIAGEO AMERICAS             1  \n",
       "4      COCKTAILS/RTD          395.0          PROXIMO             6  "
      ]
     },
     "execution_count": 2,
     "metadata": {},
     "output_type": "execute_result"
    }
   ],
   "source": [
    "data = pd.read_csv(\"data_sales.csv\")\n",
    "data.head()"
   ]
  },
  {
   "cell_type": "markdown",
   "id": "57ab5352",
   "metadata": {},
   "source": [
    "## Data Quality Assessment\n"
   ]
  },
  {
   "cell_type": "markdown",
   "id": "39b6427c",
   "metadata": {},
   "source": [
    "### About data"
   ]
  },
  {
   "cell_type": "code",
   "execution_count": 3,
   "id": "42e005ba",
   "metadata": {},
   "outputs": [
    {
     "data": {
      "text/plain": [
       "(17468378, 8)"
      ]
     },
     "execution_count": 3,
     "metadata": {},
     "output_type": "execute_result"
    }
   ],
   "source": [
    "data.shape"
   ]
  },
  {
   "cell_type": "code",
   "execution_count": 4,
   "id": "cb564969",
   "metadata": {},
   "outputs": [
    {
     "name": "stdout",
     "output_type": "stream",
     "text": [
      "<class 'pandas.core.frame.DataFrame'>\n",
      "RangeIndex: 17468378 entries, 0 to 17468377\n",
      "Data columns (total 8 columns):\n",
      " #   Column         Dtype  \n",
      "---  ------         -----  \n",
      " 0   Date           object \n",
      " 1   Store Number   int64  \n",
      " 2   Store Name     object \n",
      " 3   City           object \n",
      " 4   Category Name  object \n",
      " 5   Vendor Number  float64\n",
      " 6   Vendor Name    object \n",
      " 7   Bottles Sold   int64  \n",
      "dtypes: float64(1), int64(2), object(5)\n",
      "memory usage: 1.0+ GB\n"
     ]
    }
   ],
   "source": [
    "data.info()"
   ]
  },
  {
   "cell_type": "code",
   "execution_count": 5,
   "id": "79244d11",
   "metadata": {},
   "outputs": [
    {
     "data": {
      "text/plain": [
       "Date             1937\n",
       "Store Number     2636\n",
       "Store Name       2786\n",
       "City              476\n",
       "Category Name      52\n",
       "Vendor Number     399\n",
       "Vendor Name       435\n",
       "Bottles Sold      688\n",
       "dtype: int64"
      ]
     },
     "execution_count": 5,
     "metadata": {},
     "output_type": "execute_result"
    }
   ],
   "source": [
    "data.nunique()"
   ]
  },
  {
   "cell_type": "markdown",
   "id": "eca64dfb",
   "metadata": {},
   "source": [
    "### Preprocessing Store Name"
   ]
  },
  {
   "cell_type": "code",
   "execution_count": 6,
   "id": "136fdc15",
   "metadata": {},
   "outputs": [],
   "source": [
    "def split_store_name(store_name):\n",
    "    if pd.isnull(store_name):\n",
    "        return None, None, None\n",
    "\n",
    "    if '#' in store_name and '/' in store_name:\n",
    "        try:\n",
    "            name_part, city_part = store_name.split('#', 1)\n",
    "            city_code, city_name = city_part.split('/', 1)\n",
    "            return name_part.strip(), city_code.strip(), city_name.strip()\n",
    "        except ValueError:\n",
    "            return store_name.strip(), None, None\n",
    "    elif '/' in store_name:\n",
    "        try:\n",
    "            name_part, city_name = store_name.split('/', 1)\n",
    "            return name_part.strip(), None, city_name.strip()\n",
    "        except ValueError:\n",
    "            return store_name.strip(), None, None\n",
    "    elif '#' in store_name:\n",
    "        try:\n",
    "            name_part, city_code = store_name.split('#', 1)\n",
    "            return name_part.strip(), city_code.strip(), None\n",
    "        except ValueError:\n",
    "            return store_name.strip(), None, None\n",
    "    else:\n",
    "        return store_name.strip(), None, None\n"
   ]
  },
  {
   "cell_type": "code",
   "execution_count": 7,
   "id": "2f7b3974",
   "metadata": {},
   "outputs": [
    {
     "data": {
      "text/html": [
       "<div>\n",
       "<style scoped>\n",
       "    .dataframe tbody tr th:only-of-type {\n",
       "        vertical-align: middle;\n",
       "    }\n",
       "\n",
       "    .dataframe tbody tr th {\n",
       "        vertical-align: top;\n",
       "    }\n",
       "\n",
       "    .dataframe thead th {\n",
       "        text-align: right;\n",
       "    }\n",
       "</style>\n",
       "<table border=\"1\" class=\"dataframe\">\n",
       "  <thead>\n",
       "    <tr style=\"text-align: right;\">\n",
       "      <th></th>\n",
       "      <th>Date</th>\n",
       "      <th>Store Number</th>\n",
       "      <th>Store Name</th>\n",
       "      <th>City</th>\n",
       "      <th>Category Name</th>\n",
       "      <th>Vendor Number</th>\n",
       "      <th>Vendor Name</th>\n",
       "      <th>Bottles Sold</th>\n",
       "      <th>City Code</th>\n",
       "      <th>City Name</th>\n",
       "    </tr>\n",
       "  </thead>\n",
       "  <tbody>\n",
       "    <tr>\n",
       "      <th>0</th>\n",
       "      <td>01/03/2017</td>\n",
       "      <td>5230</td>\n",
       "      <td>POINT LIQUOR &amp; TOBACCO</td>\n",
       "      <td>NaN</td>\n",
       "      <td>CANADIAN WHISKIES</td>\n",
       "      <td>260.0</td>\n",
       "      <td>DIAGEO AMERICAS</td>\n",
       "      <td>3</td>\n",
       "      <td>None</td>\n",
       "      <td>None</td>\n",
       "    </tr>\n",
       "    <tr>\n",
       "      <th>1</th>\n",
       "      <td>01/03/2017</td>\n",
       "      <td>4482</td>\n",
       "      <td>INDY 66 WEST</td>\n",
       "      <td>NaN</td>\n",
       "      <td>AMERICAN VODKAS</td>\n",
       "      <td>434.0</td>\n",
       "      <td>LUXCO INC</td>\n",
       "      <td>6</td>\n",
       "      <td>929</td>\n",
       "      <td>INDIANOLA</td>\n",
       "    </tr>\n",
       "    <tr>\n",
       "      <th>2</th>\n",
       "      <td>01/03/2017</td>\n",
       "      <td>5359</td>\n",
       "      <td>FAREWAY STORES</td>\n",
       "      <td>PEOSTA</td>\n",
       "      <td>AMERICAN VODKAS</td>\n",
       "      <td>434.0</td>\n",
       "      <td>LUXCO INC</td>\n",
       "      <td>12</td>\n",
       "      <td>168</td>\n",
       "      <td>PEOSTA</td>\n",
       "    </tr>\n",
       "    <tr>\n",
       "      <th>3</th>\n",
       "      <td>01/03/2017</td>\n",
       "      <td>5242</td>\n",
       "      <td>KUM &amp; GO</td>\n",
       "      <td>NaN</td>\n",
       "      <td>AMERICAN VODKAS</td>\n",
       "      <td>260.0</td>\n",
       "      <td>DIAGEO AMERICAS</td>\n",
       "      <td>1</td>\n",
       "      <td>502</td>\n",
       "      <td>IOWA CITY</td>\n",
       "    </tr>\n",
       "    <tr>\n",
       "      <th>4</th>\n",
       "      <td>01/03/2017</td>\n",
       "      <td>4482</td>\n",
       "      <td>INDY 66 WEST</td>\n",
       "      <td>NaN</td>\n",
       "      <td>COCKTAILS/RTD</td>\n",
       "      <td>395.0</td>\n",
       "      <td>PROXIMO</td>\n",
       "      <td>6</td>\n",
       "      <td>929</td>\n",
       "      <td>INDIANOLA</td>\n",
       "    </tr>\n",
       "    <tr>\n",
       "      <th>...</th>\n",
       "      <td>...</td>\n",
       "      <td>...</td>\n",
       "      <td>...</td>\n",
       "      <td>...</td>\n",
       "      <td>...</td>\n",
       "      <td>...</td>\n",
       "      <td>...</td>\n",
       "      <td>...</td>\n",
       "      <td>...</td>\n",
       "      <td>...</td>\n",
       "    </tr>\n",
       "    <tr>\n",
       "      <th>17468373</th>\n",
       "      <td>12/30/2023</td>\n",
       "      <td>4273</td>\n",
       "      <td>SMOKIN' JOE'S</td>\n",
       "      <td>DES MOINES</td>\n",
       "      <td>FLAVORED RUM</td>\n",
       "      <td>370.0</td>\n",
       "      <td>PERNOD RICARD USA</td>\n",
       "      <td>1</td>\n",
       "      <td>4 TOBACCO AND LIQUOR OUTLET</td>\n",
       "      <td>None</td>\n",
       "    </tr>\n",
       "    <tr>\n",
       "      <th>17468374</th>\n",
       "      <td>12/30/2023</td>\n",
       "      <td>10037</td>\n",
       "      <td>WHISKEY WOLF LIQUOR</td>\n",
       "      <td>GLENWOOD</td>\n",
       "      <td>AMERICAN VODKAS</td>\n",
       "      <td>434.0</td>\n",
       "      <td>LUXCO INC</td>\n",
       "      <td>6</td>\n",
       "      <td>None</td>\n",
       "      <td>GLENWOOD</td>\n",
       "    </tr>\n",
       "    <tr>\n",
       "      <th>17468375</th>\n",
       "      <td>12/30/2023</td>\n",
       "      <td>2591</td>\n",
       "      <td>HY-VEE WINE AND SPIRITS</td>\n",
       "      <td>ATLANTIC</td>\n",
       "      <td>CANADIAN WHISKIES</td>\n",
       "      <td>259.0</td>\n",
       "      <td>HEAVEN HILL BRANDS</td>\n",
       "      <td>12</td>\n",
       "      <td>None</td>\n",
       "      <td>ATLANTIC</td>\n",
       "    </tr>\n",
       "    <tr>\n",
       "      <th>17468376</th>\n",
       "      <td>12/30/2023</td>\n",
       "      <td>2606</td>\n",
       "      <td>HY-VEE WINE AND SPIRITS</td>\n",
       "      <td>HUMBOLDT</td>\n",
       "      <td>WHISKEY LIQUEUR</td>\n",
       "      <td>421.0</td>\n",
       "      <td>SAZERAC COMPANY  INC</td>\n",
       "      <td>24</td>\n",
       "      <td>None</td>\n",
       "      <td>HUMBOLDT</td>\n",
       "    </tr>\n",
       "    <tr>\n",
       "      <th>17468377</th>\n",
       "      <td>12/30/2023</td>\n",
       "      <td>5050</td>\n",
       "      <td>FAREWAY STORES</td>\n",
       "      <td>CARLISLE</td>\n",
       "      <td>AMERICAN SCHNAPPS</td>\n",
       "      <td>65.0</td>\n",
       "      <td>JIM BEAM BRANDS</td>\n",
       "      <td>1</td>\n",
       "      <td>147</td>\n",
       "      <td>CARLISLE</td>\n",
       "    </tr>\n",
       "  </tbody>\n",
       "</table>\n",
       "<p>17468378 rows × 10 columns</p>\n",
       "</div>"
      ],
      "text/plain": [
       "                Date  Store Number               Store Name        City  \\\n",
       "0         01/03/2017          5230   POINT LIQUOR & TOBACCO         NaN   \n",
       "1         01/03/2017          4482             INDY 66 WEST         NaN   \n",
       "2         01/03/2017          5359           FAREWAY STORES      PEOSTA   \n",
       "3         01/03/2017          5242                 KUM & GO         NaN   \n",
       "4         01/03/2017          4482             INDY 66 WEST         NaN   \n",
       "...              ...           ...                      ...         ...   \n",
       "17468373  12/30/2023          4273            SMOKIN' JOE'S  DES MOINES   \n",
       "17468374  12/30/2023         10037      WHISKEY WOLF LIQUOR    GLENWOOD   \n",
       "17468375  12/30/2023          2591  HY-VEE WINE AND SPIRITS    ATLANTIC   \n",
       "17468376  12/30/2023          2606  HY-VEE WINE AND SPIRITS    HUMBOLDT   \n",
       "17468377  12/30/2023          5050           FAREWAY STORES    CARLISLE   \n",
       "\n",
       "              Category Name  Vendor Number           Vendor Name  \\\n",
       "0         CANADIAN WHISKIES          260.0       DIAGEO AMERICAS   \n",
       "1           AMERICAN VODKAS          434.0             LUXCO INC   \n",
       "2           AMERICAN VODKAS          434.0             LUXCO INC   \n",
       "3           AMERICAN VODKAS          260.0       DIAGEO AMERICAS   \n",
       "4             COCKTAILS/RTD          395.0               PROXIMO   \n",
       "...                     ...            ...                   ...   \n",
       "17468373       FLAVORED RUM          370.0     PERNOD RICARD USA   \n",
       "17468374    AMERICAN VODKAS          434.0             LUXCO INC   \n",
       "17468375  CANADIAN WHISKIES          259.0    HEAVEN HILL BRANDS   \n",
       "17468376    WHISKEY LIQUEUR          421.0  SAZERAC COMPANY  INC   \n",
       "17468377  AMERICAN SCHNAPPS           65.0       JIM BEAM BRANDS   \n",
       "\n",
       "          Bottles Sold                    City Code  City Name  \n",
       "0                    3                         None       None  \n",
       "1                    6                          929  INDIANOLA  \n",
       "2                   12                          168     PEOSTA  \n",
       "3                    1                          502  IOWA CITY  \n",
       "4                    6                          929  INDIANOLA  \n",
       "...                ...                          ...        ...  \n",
       "17468373             1  4 TOBACCO AND LIQUOR OUTLET       None  \n",
       "17468374             6                         None   GLENWOOD  \n",
       "17468375            12                         None   ATLANTIC  \n",
       "17468376            24                         None   HUMBOLDT  \n",
       "17468377             1                          147   CARLISLE  \n",
       "\n",
       "[17468378 rows x 10 columns]"
      ]
     },
     "execution_count": 7,
     "metadata": {},
     "output_type": "execute_result"
    }
   ],
   "source": [
    "extracted = data['Store Name'].apply(split_store_name)\n",
    "extracted_df = pd.DataFrame(extracted.tolist(), columns=[\"Store Name\", \"City Code\", \"City Name\"])\n",
    "\n",
    "data[\"Store Name\"] = extracted_df[\"Store Name\"]\n",
    "data[\"City Code\"] = extracted_df[\"City Code\"]\n",
    "data[\"City Name\"] = extracted_df[\"City Name\"]\n",
    "\n",
    "data"
   ]
  },
  {
   "cell_type": "code",
   "execution_count": 8,
   "id": "c8247272",
   "metadata": {},
   "outputs": [
    {
     "data": {
      "text/plain": [
       "(17468378, 10)"
      ]
     },
     "execution_count": 8,
     "metadata": {},
     "output_type": "execute_result"
    }
   ],
   "source": [
    "data.shape"
   ]
  },
  {
   "cell_type": "markdown",
   "id": "1e32bcab",
   "metadata": {},
   "source": [
    "### Check data"
   ]
  },
  {
   "cell_type": "code",
   "execution_count": 9,
   "id": "9b160b14",
   "metadata": {},
   "outputs": [
    {
     "data": {
      "text/plain": [
       "Date             1937\n",
       "Store Number     2636\n",
       "Store Name       1296\n",
       "City              476\n",
       "Category Name      52\n",
       "Vendor Number     399\n",
       "Vendor Name       435\n",
       "Bottles Sold      688\n",
       "City Code        1051\n",
       "City Name         525\n",
       "dtype: int64"
      ]
     },
     "execution_count": 9,
     "metadata": {},
     "output_type": "execute_result"
    }
   ],
   "source": [
    "data.nunique()"
   ]
  },
  {
   "cell_type": "code",
   "execution_count": 10,
   "id": "25300396",
   "metadata": {},
   "outputs": [
    {
     "data": {
      "text/html": [
       "<div>\n",
       "<style scoped>\n",
       "    .dataframe tbody tr th:only-of-type {\n",
       "        vertical-align: middle;\n",
       "    }\n",
       "\n",
       "    .dataframe tbody tr th {\n",
       "        vertical-align: top;\n",
       "    }\n",
       "\n",
       "    .dataframe thead th {\n",
       "        text-align: right;\n",
       "    }\n",
       "</style>\n",
       "<table border=\"1\" class=\"dataframe\">\n",
       "  <thead>\n",
       "    <tr style=\"text-align: right;\">\n",
       "      <th></th>\n",
       "      <th>Vendor Name</th>\n",
       "      <th>num_vendor_number</th>\n",
       "    </tr>\n",
       "  </thead>\n",
       "  <tbody>\n",
       "    <tr>\n",
       "      <th>219</th>\n",
       "      <td>LEVECKE CORPORATION</td>\n",
       "      <td>2</td>\n",
       "    </tr>\n",
       "    <tr>\n",
       "      <th>325</th>\n",
       "      <td>ROYAL WINE CORPORATION</td>\n",
       "      <td>2</td>\n",
       "    </tr>\n",
       "  </tbody>\n",
       "</table>\n",
       "</div>"
      ],
      "text/plain": [
       "                Vendor Name  num_vendor_number\n",
       "219     LEVECKE CORPORATION                  2\n",
       "325  ROYAL WINE CORPORATION                  2"
      ]
     },
     "execution_count": 10,
     "metadata": {},
     "output_type": "execute_result"
    }
   ],
   "source": [
    "vendor_check = data.groupby('Vendor Name')['Vendor Number'].nunique().reset_index(name='num_vendor_number')\n",
    "vendor_check = vendor_check[vendor_check['num_vendor_number'] > 1]\n",
    "vendor_check"
   ]
  },
  {
   "cell_type": "code",
   "execution_count": 11,
   "id": "7c42053d",
   "metadata": {},
   "outputs": [
    {
     "data": {
      "text/html": [
       "<div>\n",
       "<style scoped>\n",
       "    .dataframe tbody tr th:only-of-type {\n",
       "        vertical-align: middle;\n",
       "    }\n",
       "\n",
       "    .dataframe tbody tr th {\n",
       "        vertical-align: top;\n",
       "    }\n",
       "\n",
       "    .dataframe thead th {\n",
       "        text-align: right;\n",
       "    }\n",
       "</style>\n",
       "<table border=\"1\" class=\"dataframe\">\n",
       "  <thead>\n",
       "    <tr style=\"text-align: right;\">\n",
       "      <th></th>\n",
       "      <th>City</th>\n",
       "      <th>num_city_code</th>\n",
       "    </tr>\n",
       "  </thead>\n",
       "  <tbody>\n",
       "    <tr>\n",
       "      <th>0</th>\n",
       "      <td>ACKLEY</td>\n",
       "      <td>2</td>\n",
       "    </tr>\n",
       "    <tr>\n",
       "      <th>1</th>\n",
       "      <td>ADAIR</td>\n",
       "      <td>2</td>\n",
       "    </tr>\n",
       "    <tr>\n",
       "      <th>2</th>\n",
       "      <td>ADEL</td>\n",
       "      <td>4</td>\n",
       "    </tr>\n",
       "    <tr>\n",
       "      <th>5</th>\n",
       "      <td>AKRON</td>\n",
       "      <td>2</td>\n",
       "    </tr>\n",
       "    <tr>\n",
       "      <th>7</th>\n",
       "      <td>ALBIA</td>\n",
       "      <td>2</td>\n",
       "    </tr>\n",
       "    <tr>\n",
       "      <th>...</th>\n",
       "      <td>...</td>\n",
       "      <td>...</td>\n",
       "    </tr>\n",
       "    <tr>\n",
       "      <th>455</th>\n",
       "      <td>WEST BRANCH</td>\n",
       "      <td>2</td>\n",
       "    </tr>\n",
       "    <tr>\n",
       "      <th>457</th>\n",
       "      <td>WEST DES MOINES</td>\n",
       "      <td>34</td>\n",
       "    </tr>\n",
       "    <tr>\n",
       "      <th>466</th>\n",
       "      <td>WILLIAMSBURG</td>\n",
       "      <td>4</td>\n",
       "    </tr>\n",
       "    <tr>\n",
       "      <th>468</th>\n",
       "      <td>WINDSOR HEIGHTS</td>\n",
       "      <td>3</td>\n",
       "    </tr>\n",
       "    <tr>\n",
       "      <th>470</th>\n",
       "      <td>WINTERSET</td>\n",
       "      <td>4</td>\n",
       "    </tr>\n",
       "  </tbody>\n",
       "</table>\n",
       "<p>151 rows × 2 columns</p>\n",
       "</div>"
      ],
      "text/plain": [
       "                City  num_city_code\n",
       "0             ACKLEY              2\n",
       "1              ADAIR              2\n",
       "2               ADEL              4\n",
       "5              AKRON              2\n",
       "7              ALBIA              2\n",
       "..               ...            ...\n",
       "455      WEST BRANCH              2\n",
       "457  WEST DES MOINES             34\n",
       "466     WILLIAMSBURG              4\n",
       "468  WINDSOR HEIGHTS              3\n",
       "470        WINTERSET              4\n",
       "\n",
       "[151 rows x 2 columns]"
      ]
     },
     "execution_count": 11,
     "metadata": {},
     "output_type": "execute_result"
    }
   ],
   "source": [
    "city_check = data.groupby('City')['City Code'].nunique().reset_index(name='num_city_code')\n",
    "city_check = city_check[city_check['num_city_code'] > 1]\n",
    "city_check"
   ]
  },
  {
   "cell_type": "code",
   "execution_count": 12,
   "id": "d794cb9c",
   "metadata": {},
   "outputs": [
    {
     "data": {
      "text/html": [
       "<div>\n",
       "<style scoped>\n",
       "    .dataframe tbody tr th:only-of-type {\n",
       "        vertical-align: middle;\n",
       "    }\n",
       "\n",
       "    .dataframe tbody tr th {\n",
       "        vertical-align: top;\n",
       "    }\n",
       "\n",
       "    .dataframe thead th {\n",
       "        text-align: right;\n",
       "    }\n",
       "</style>\n",
       "<table border=\"1\" class=\"dataframe\">\n",
       "  <thead>\n",
       "    <tr style=\"text-align: right;\">\n",
       "      <th></th>\n",
       "      <th>Store Number</th>\n",
       "      <th>num_city</th>\n",
       "    </tr>\n",
       "  </thead>\n",
       "  <tbody>\n",
       "    <tr>\n",
       "      <th>48</th>\n",
       "      <td>2543</td>\n",
       "      <td>2</td>\n",
       "    </tr>\n",
       "    <tr>\n",
       "      <th>95</th>\n",
       "      <td>2604</td>\n",
       "      <td>2</td>\n",
       "    </tr>\n",
       "    <tr>\n",
       "      <th>234</th>\n",
       "      <td>3456</td>\n",
       "      <td>2</td>\n",
       "    </tr>\n",
       "    <tr>\n",
       "      <th>317</th>\n",
       "      <td>3742</td>\n",
       "      <td>2</td>\n",
       "    </tr>\n",
       "    <tr>\n",
       "      <th>346</th>\n",
       "      <td>3822</td>\n",
       "      <td>2</td>\n",
       "    </tr>\n",
       "    <tr>\n",
       "      <th>833</th>\n",
       "      <td>4668</td>\n",
       "      <td>2</td>\n",
       "    </tr>\n",
       "    <tr>\n",
       "      <th>1343</th>\n",
       "      <td>5300</td>\n",
       "      <td>2</td>\n",
       "    </tr>\n",
       "    <tr>\n",
       "      <th>1657</th>\n",
       "      <td>5619</td>\n",
       "      <td>2</td>\n",
       "    </tr>\n",
       "    <tr>\n",
       "      <th>1857</th>\n",
       "      <td>5821</td>\n",
       "      <td>2</td>\n",
       "    </tr>\n",
       "    <tr>\n",
       "      <th>2379</th>\n",
       "      <td>9911</td>\n",
       "      <td>2</td>\n",
       "    </tr>\n",
       "  </tbody>\n",
       "</table>\n",
       "</div>"
      ],
      "text/plain": [
       "      Store Number  num_city\n",
       "48            2543         2\n",
       "95            2604         2\n",
       "234           3456         2\n",
       "317           3742         2\n",
       "346           3822         2\n",
       "833           4668         2\n",
       "1343          5300         2\n",
       "1657          5619         2\n",
       "1857          5821         2\n",
       "2379          9911         2"
      ]
     },
     "execution_count": 12,
     "metadata": {},
     "output_type": "execute_result"
    }
   ],
   "source": [
    "city_store_check = data.groupby('Store Number')['City'].nunique().reset_index(name='num_city')\n",
    "city_store_check = city_store_check[city_store_check['num_city'] > 1]\n",
    "city_store_check"
   ]
  },
  {
   "cell_type": "markdown",
   "id": "a64b1de7",
   "metadata": {},
   "source": [
    "- Vendor: Lỗi một vendor_number có nhiều hơn 1 vendor_name => drop vendor number \n",
    "- City: Lỗi trong quá trình extract => drop column City Name và City Code\n",
    "- Store: Lỗi ở store_number => drop Store Number"
   ]
  },
  {
   "cell_type": "markdown",
   "id": "546e03ad",
   "metadata": {},
   "source": [
    "### Drop data"
   ]
  },
  {
   "cell_type": "code",
   "execution_count": null,
   "id": "665c22b9",
   "metadata": {},
   "outputs": [],
   "source": [
    "def drop(data):\n",
    "    data = data.drop(columns= {'Vendor Number','City Name','City Code','Store Number'})\n",
    "    return data \n"
   ]
  },
  {
   "cell_type": "code",
   "execution_count": 14,
   "id": "fb51aa38",
   "metadata": {},
   "outputs": [
    {
     "data": {
      "text/html": [
       "<div>\n",
       "<style scoped>\n",
       "    .dataframe tbody tr th:only-of-type {\n",
       "        vertical-align: middle;\n",
       "    }\n",
       "\n",
       "    .dataframe tbody tr th {\n",
       "        vertical-align: top;\n",
       "    }\n",
       "\n",
       "    .dataframe thead th {\n",
       "        text-align: right;\n",
       "    }\n",
       "</style>\n",
       "<table border=\"1\" class=\"dataframe\">\n",
       "  <thead>\n",
       "    <tr style=\"text-align: right;\">\n",
       "      <th></th>\n",
       "      <th>Date</th>\n",
       "      <th>Store Name</th>\n",
       "      <th>Category Name</th>\n",
       "      <th>Vendor Name</th>\n",
       "      <th>Bottles Sold</th>\n",
       "      <th>City Name</th>\n",
       "    </tr>\n",
       "  </thead>\n",
       "  <tbody>\n",
       "    <tr>\n",
       "      <th>0</th>\n",
       "      <td>01/03/2017</td>\n",
       "      <td>POINT LIQUOR &amp; TOBACCO</td>\n",
       "      <td>CANADIAN WHISKIES</td>\n",
       "      <td>DIAGEO AMERICAS</td>\n",
       "      <td>3</td>\n",
       "      <td>None</td>\n",
       "    </tr>\n",
       "    <tr>\n",
       "      <th>1</th>\n",
       "      <td>01/03/2017</td>\n",
       "      <td>INDY 66 WEST</td>\n",
       "      <td>AMERICAN VODKAS</td>\n",
       "      <td>LUXCO INC</td>\n",
       "      <td>6</td>\n",
       "      <td>INDIANOLA</td>\n",
       "    </tr>\n",
       "    <tr>\n",
       "      <th>2</th>\n",
       "      <td>01/03/2017</td>\n",
       "      <td>FAREWAY STORES</td>\n",
       "      <td>AMERICAN VODKAS</td>\n",
       "      <td>LUXCO INC</td>\n",
       "      <td>12</td>\n",
       "      <td>PEOSTA</td>\n",
       "    </tr>\n",
       "    <tr>\n",
       "      <th>3</th>\n",
       "      <td>01/03/2017</td>\n",
       "      <td>KUM &amp; GO</td>\n",
       "      <td>AMERICAN VODKAS</td>\n",
       "      <td>DIAGEO AMERICAS</td>\n",
       "      <td>1</td>\n",
       "      <td>IOWA CITY</td>\n",
       "    </tr>\n",
       "    <tr>\n",
       "      <th>4</th>\n",
       "      <td>01/03/2017</td>\n",
       "      <td>INDY 66 WEST</td>\n",
       "      <td>COCKTAILS/RTD</td>\n",
       "      <td>PROXIMO</td>\n",
       "      <td>6</td>\n",
       "      <td>INDIANOLA</td>\n",
       "    </tr>\n",
       "  </tbody>\n",
       "</table>\n",
       "</div>"
      ],
      "text/plain": [
       "         Date              Store Name      Category Name      Vendor Name  \\\n",
       "0  01/03/2017  POINT LIQUOR & TOBACCO  CANADIAN WHISKIES  DIAGEO AMERICAS   \n",
       "1  01/03/2017            INDY 66 WEST    AMERICAN VODKAS        LUXCO INC   \n",
       "2  01/03/2017          FAREWAY STORES    AMERICAN VODKAS        LUXCO INC   \n",
       "3  01/03/2017                KUM & GO    AMERICAN VODKAS  DIAGEO AMERICAS   \n",
       "4  01/03/2017            INDY 66 WEST      COCKTAILS/RTD          PROXIMO   \n",
       "\n",
       "   Bottles Sold  City Name  \n",
       "0             3       None  \n",
       "1             6  INDIANOLA  \n",
       "2            12     PEOSTA  \n",
       "3             1  IOWA CITY  \n",
       "4             6  INDIANOLA  "
      ]
     },
     "execution_count": 14,
     "metadata": {},
     "output_type": "execute_result"
    }
   ],
   "source": [
    "data = drop(data)\n",
    "data.head()"
   ]
  },
  {
   "cell_type": "code",
   "execution_count": 15,
   "id": "75411d56",
   "metadata": {},
   "outputs": [
    {
     "data": {
      "text/plain": [
       "(17468378, 6)"
      ]
     },
     "execution_count": 15,
     "metadata": {},
     "output_type": "execute_result"
    }
   ],
   "source": [
    "data.shape"
   ]
  },
  {
   "cell_type": "markdown",
   "id": "632f8523",
   "metadata": {},
   "source": [
    "### Normalize name"
   ]
  },
  {
   "cell_type": "code",
   "execution_count": null,
   "id": "6bba8b95",
   "metadata": {},
   "outputs": [],
   "source": [
    "def normalize_name(data):\n",
    "    data = data.rename(columns={\n",
    "        \"Date\": \"date\",\n",
    "        \"Store Name\": \"store_name\",\n",
    "        \"City\":\"city_name\",\n",
    "        \"Category Name\": \"category_name\",\n",
    "        \"Vendor Name\": \"vendor_name\",\n",
    "        \"Bottles Sold\": \"bottles_sold\"\n",
    "    })\n",
    "    return data "
   ]
  },
  {
   "cell_type": "code",
   "execution_count": 17,
   "id": "f55559e6",
   "metadata": {},
   "outputs": [
    {
     "data": {
      "text/html": [
       "<div>\n",
       "<style scoped>\n",
       "    .dataframe tbody tr th:only-of-type {\n",
       "        vertical-align: middle;\n",
       "    }\n",
       "\n",
       "    .dataframe tbody tr th {\n",
       "        vertical-align: top;\n",
       "    }\n",
       "\n",
       "    .dataframe thead th {\n",
       "        text-align: right;\n",
       "    }\n",
       "</style>\n",
       "<table border=\"1\" class=\"dataframe\">\n",
       "  <thead>\n",
       "    <tr style=\"text-align: right;\">\n",
       "      <th></th>\n",
       "      <th>date</th>\n",
       "      <th>store_name</th>\n",
       "      <th>category_name</th>\n",
       "      <th>vendor_name</th>\n",
       "      <th>bottles_sold</th>\n",
       "      <th>city_name</th>\n",
       "    </tr>\n",
       "  </thead>\n",
       "  <tbody>\n",
       "    <tr>\n",
       "      <th>0</th>\n",
       "      <td>01/03/2017</td>\n",
       "      <td>POINT LIQUOR &amp; TOBACCO</td>\n",
       "      <td>CANADIAN WHISKIES</td>\n",
       "      <td>DIAGEO AMERICAS</td>\n",
       "      <td>3</td>\n",
       "      <td>None</td>\n",
       "    </tr>\n",
       "    <tr>\n",
       "      <th>1</th>\n",
       "      <td>01/03/2017</td>\n",
       "      <td>INDY 66 WEST</td>\n",
       "      <td>AMERICAN VODKAS</td>\n",
       "      <td>LUXCO INC</td>\n",
       "      <td>6</td>\n",
       "      <td>INDIANOLA</td>\n",
       "    </tr>\n",
       "    <tr>\n",
       "      <th>2</th>\n",
       "      <td>01/03/2017</td>\n",
       "      <td>FAREWAY STORES</td>\n",
       "      <td>AMERICAN VODKAS</td>\n",
       "      <td>LUXCO INC</td>\n",
       "      <td>12</td>\n",
       "      <td>PEOSTA</td>\n",
       "    </tr>\n",
       "    <tr>\n",
       "      <th>3</th>\n",
       "      <td>01/03/2017</td>\n",
       "      <td>KUM &amp; GO</td>\n",
       "      <td>AMERICAN VODKAS</td>\n",
       "      <td>DIAGEO AMERICAS</td>\n",
       "      <td>1</td>\n",
       "      <td>IOWA CITY</td>\n",
       "    </tr>\n",
       "    <tr>\n",
       "      <th>4</th>\n",
       "      <td>01/03/2017</td>\n",
       "      <td>INDY 66 WEST</td>\n",
       "      <td>COCKTAILS/RTD</td>\n",
       "      <td>PROXIMO</td>\n",
       "      <td>6</td>\n",
       "      <td>INDIANOLA</td>\n",
       "    </tr>\n",
       "  </tbody>\n",
       "</table>\n",
       "</div>"
      ],
      "text/plain": [
       "         date              store_name      category_name      vendor_name  \\\n",
       "0  01/03/2017  POINT LIQUOR & TOBACCO  CANADIAN WHISKIES  DIAGEO AMERICAS   \n",
       "1  01/03/2017            INDY 66 WEST    AMERICAN VODKAS        LUXCO INC   \n",
       "2  01/03/2017          FAREWAY STORES    AMERICAN VODKAS        LUXCO INC   \n",
       "3  01/03/2017                KUM & GO    AMERICAN VODKAS  DIAGEO AMERICAS   \n",
       "4  01/03/2017            INDY 66 WEST      COCKTAILS/RTD          PROXIMO   \n",
       "\n",
       "   bottles_sold  city_name  \n",
       "0             3       None  \n",
       "1             6  INDIANOLA  \n",
       "2            12     PEOSTA  \n",
       "3             1  IOWA CITY  \n",
       "4             6  INDIANOLA  "
      ]
     },
     "execution_count": 17,
     "metadata": {},
     "output_type": "execute_result"
    }
   ],
   "source": [
    "data = normalize_name(data)\n",
    "data.head()"
   ]
  },
  {
   "cell_type": "markdown",
   "id": "e6100b71",
   "metadata": {},
   "source": [
    "### Convert data types"
   ]
  },
  {
   "cell_type": "code",
   "execution_count": 18,
   "id": "a33548e4",
   "metadata": {},
   "outputs": [],
   "source": [
    "def convert_dtypes(data):\n",
    "    #date\n",
    "    if 'date' in data.columns:\n",
    "        data['date'] = pd.to_datetime(data['date'], errors='coerce')\n",
    "\n",
    "    # numeric\n",
    "    int_cols = ['bottles_sold']\n",
    "    for col in int_cols:\n",
    "        if col in data.columns:\n",
    "            data[col] = pd.to_numeric(data[col], errors='coerce').astype('Int64')\n",
    "\n",
    "    # category\n",
    "    str_cols = ['store_name', 'city_name', 'category_name', 'vendor_name']\n",
    "    for col in str_cols:\n",
    "        if col in data.columns:\n",
    "            data[col] = data[col].astype(str)\n",
    "\n",
    "    return data"
   ]
  },
  {
   "cell_type": "code",
   "execution_count": 19,
   "id": "e139e9e2",
   "metadata": {},
   "outputs": [
    {
     "data": {
      "text/plain": [
       "date             datetime64[ns]\n",
       "store_name               object\n",
       "category_name            object\n",
       "vendor_name              object\n",
       "bottles_sold              Int64\n",
       "city_name                object\n",
       "dtype: object"
      ]
     },
     "execution_count": 19,
     "metadata": {},
     "output_type": "execute_result"
    }
   ],
   "source": [
    "data = convert_dtypes(data)\n",
    "data.dtypes"
   ]
  },
  {
   "cell_type": "markdown",
   "id": "3172ff78",
   "metadata": {},
   "source": [
    "### Normalize tables"
   ]
  },
  {
   "cell_type": "code",
   "execution_count": 20,
   "id": "2fd75b80",
   "metadata": {},
   "outputs": [],
   "source": [
    "def normalize_tables(data):\n",
    "    # store_dim\n",
    "    df_store = data[['store_name', 'city_name']].drop_duplicates().reset_index(drop=True)\n",
    "    df_store['store_id'] = df_store.index + 1\n",
    "\n",
    "    # category_dim\n",
    "    df_category = data[['category_name']].dropna().drop_duplicates().reset_index(drop=True)\n",
    "    df_category['category_id'] = df_category.index + 1\n",
    "\n",
    "    # vendor_dim\n",
    "    df_vendor = data[['vendor_name','city_name']].dropna().drop_duplicates().reset_index(drop=True)\n",
    "    df_vendor['vendor_id'] = df_vendor.index + 1\n",
    "\n",
    "     # sales\n",
    "    df_sales = data[['date', 'store_name', 'city_name', 'category_name', 'vendor_name', 'bottles_sold']]\n",
    "    df_sales = df_sales.merge(df_store, on=['store_name', 'city_name'], how='left')\n",
    "    df_sales = df_sales.merge(df_category, on='category_name', how='left')\n",
    "    df_sales = df_sales.merge(df_vendor, on=['vendor_name', 'city_name'], how='left', suffixes=('', '_vendor'))\n",
    "    df_sales['sale_id'] = df_sales.index + 1\n",
    "    df_sales = df_sales[['sale_id', 'date', 'store_id', 'category_id', 'vendor_id', 'bottles_sold']]\n",
    "\n",
    "    return df_store, df_category, df_vendor, df_sales\n"
   ]
  },
  {
   "cell_type": "code",
   "execution_count": 21,
   "id": "e148a038",
   "metadata": {},
   "outputs": [],
   "source": [
    "df_store, df_category, df_vendor, df_sales = normalize_tables(data)"
   ]
  },
  {
   "cell_type": "code",
   "execution_count": 22,
   "id": "15066a19",
   "metadata": {},
   "outputs": [
    {
     "name": "stdout",
     "output_type": "stream",
     "text": [
      "               store_name  city_name  store_id\n",
      "0  POINT LIQUOR & TOBACCO       None         1\n",
      "1            INDY 66 WEST  INDIANOLA         2\n",
      "2          FAREWAY STORES     PEOSTA         3\n",
      "3                KUM & GO  IOWA CITY         4\n",
      "4           SMOKIN' JOE'S       None         5\n",
      "             category_name  category_id\n",
      "0        CANADIAN WHISKIES            1\n",
      "1          AMERICAN VODKAS            2\n",
      "2            COCKTAILS/RTD            3\n",
      "3  IMPORTED FLAVORED VODKA            4\n",
      "4          IMPORTED VODKAS            5\n",
      "       vendor_name  city_name  vendor_id\n",
      "0  DIAGEO AMERICAS       None          1\n",
      "1        LUXCO INC  INDIANOLA          2\n",
      "2        LUXCO INC     PEOSTA          3\n",
      "3  DIAGEO AMERICAS  IOWA CITY          4\n",
      "4          PROXIMO  INDIANOLA          5\n",
      "   sale_id       date  store_id  category_id  vendor_id  bottles_sold\n",
      "0        1 2017-01-03         1            1          1             3\n",
      "1        2 2017-01-03         2            2          2             6\n",
      "2        3 2017-01-03         3            2          3            12\n",
      "3        4 2017-01-03         4            2          4             1\n",
      "4        5 2017-01-03         2            3          5             6\n"
     ]
    }
   ],
   "source": [
    "print(df_store.head())\n",
    "print(df_category.head())\n",
    "print(df_vendor.head())\n",
    "print(df_sales.head())"
   ]
  },
  {
   "cell_type": "markdown",
   "id": "0ea23eea",
   "metadata": {},
   "source": [
    "## Load Database"
   ]
  },
  {
   "cell_type": "code",
   "execution_count": 23,
   "id": "54d73cfd",
   "metadata": {},
   "outputs": [],
   "source": [
    "from sqlalchemy import create_engine\n",
    "from sqlalchemy import text "
   ]
  },
  {
   "cell_type": "markdown",
   "id": "ef752e78",
   "metadata": {},
   "source": [
    "### Connect database"
   ]
  },
  {
   "cell_type": "code",
   "execution_count": 24,
   "id": "1dc3c0a4",
   "metadata": {},
   "outputs": [],
   "source": [
    "def connect_postgres(user, password, host, port, dbname):\n",
    "    engine = create_engine(f\"postgresql+psycopg2://{user}:{password}@{host}:{port}/{dbname}\")\n",
    "    return engine"
   ]
  },
  {
   "cell_type": "code",
   "execution_count": 25,
   "id": "0c66bed4",
   "metadata": {},
   "outputs": [],
   "source": [
    "engine = connect_postgres(\n",
    "        user='postgres',\n",
    "        password='phung',\n",
    "        host='localhost',\n",
    "        port=5432,\n",
    "        dbname='DWH'\n",
    "    )"
   ]
  },
  {
   "cell_type": "markdown",
   "id": "ccac589e",
   "metadata": {},
   "source": [
    "### Create scheme"
   ]
  },
  {
   "cell_type": "code",
   "execution_count": 26,
   "id": "ce143d25",
   "metadata": {},
   "outputs": [],
   "source": [
    "def create_schema_if_not_exists(engine, schema_name):\n",
    "    with engine.begin() as conn:\n",
    "        conn.execute(text(f\"CREATE SCHEMA IF NOT EXISTS {schema_name}\"))\n",
    "        print(f\"Schema '{schema_name}' created or already exists.\")"
   ]
  },
  {
   "cell_type": "code",
   "execution_count": 27,
   "id": "51db3160",
   "metadata": {},
   "outputs": [
    {
     "name": "stdout",
     "output_type": "stream",
     "text": [
      "Schema 'sales_data' created or already exists.\n"
     ]
    }
   ],
   "source": [
    "create_schema_if_not_exists(engine, 'sales_data')"
   ]
  },
  {
   "cell_type": "markdown",
   "id": "1a33cb1d",
   "metadata": {},
   "source": [
    "### Write data to database"
   ]
  },
  {
   "cell_type": "code",
   "execution_count": 28,
   "id": "b95a077a",
   "metadata": {},
   "outputs": [],
   "source": [
    "def write_to_db(df, table_name, engine, schema, if_exists='replace', chunksize=10000):\n",
    "    df.to_sql(table_name, engine, schema=schema, if_exists=if_exists, index=False, chunksize=chunksize)\n",
    "    print(f\"Load '{table_name}' Done.\")\n"
   ]
  },
  {
   "cell_type": "code",
   "execution_count": 29,
   "id": "d1b4381f",
   "metadata": {},
   "outputs": [
    {
     "name": "stdout",
     "output_type": "stream",
     "text": [
      "Load 'store_dim' Done.\n",
      "Load 'category_dim' Done.\n",
      "Load 'vendor_dim' Done.\n",
      "Load 'sales' Done.\n"
     ]
    }
   ],
   "source": [
    "write_to_db(df_store, \"store_dim\", engine,'sales_data')\n",
    "write_to_db(df_category, \"category_dim\", engine,'sales_data')\n",
    "write_to_db(df_vendor, \"vendor_dim\", engine,'sales_data')\n",
    "write_to_db(df_sales, \"sales\", engine,'sales_data')"
   ]
  }
 ],
 "metadata": {
  "kernelspec": {
   "display_name": "Python 3",
   "language": "python",
   "name": "python3"
  },
  "language_info": {
   "codemirror_mode": {
    "name": "ipython",
    "version": 3
   },
   "file_extension": ".py",
   "mimetype": "text/x-python",
   "name": "python",
   "nbconvert_exporter": "python",
   "pygments_lexer": "ipython3",
   "version": "3.11.0"
  }
 },
 "nbformat": 4,
 "nbformat_minor": 5
}
